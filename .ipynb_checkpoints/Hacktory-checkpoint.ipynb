{
 "cells": [
  {
   "cell_type": "code",
   "execution_count": 1,
   "metadata": {},
   "outputs": [],
   "source": [
    "import numpy as np\n",
    "from keras.layers import Input\n",
    "from keras.models import Sequential\n",
    "from keras.layers import Convolution2D\n",
    "from keras.models import Model\n",
    "from keras.layers import GlobalAveragePooling2D,MaxPooling2D,concatenate\n",
    "from keras.layers import Dense,Flatten,SpatialDropout2D\n",
    "# from keras.layers.merge import concatenate\n",
    "\n",
    "from keras.callbacks import EarlyStopping, ModelCheckpoint\n",
    "from keras.callbacks import History\n",
    "import matplotlib.pyplot as plt\n",
    "from sklearn.metrics import confusion_matrix\n",
    "import pandas as pd\n",
    "%matplotlib inline"
   ]
  },
  {
   "cell_type": "code",
   "execution_count": 2,
   "metadata": {},
   "outputs": [],
   "source": [
    "image_size = (64, 64)"
   ]
  },
  {
   "cell_type": "code",
   "execution_count": 3,
   "metadata": {},
   "outputs": [],
   "source": [
    "def plot_model_history(history):\n",
    "    \"\"\"\n",
    "    Function to plot training and validation data of model\n",
    "    \n",
    "    Parameters\n",
    "    ----------\n",
    "    history: dictionary\n",
    "             history of training and validation of model\n",
    "    Returns\n",
    "    -------\n",
    "    None\n",
    "    \n",
    "    \"\"\"\n",
    "    print(history.history.keys())\n",
    "    # summarize history for accuracy\n",
    "    plt.plot(history.history['accuracy'])\n",
    "    plt.plot(history.history['val_accuracy'])\n",
    "    plt.title('model accuracy')\n",
    "    plt.ylabel('accuracy')\n",
    "    plt.xlabel('epoch')\n",
    "    plt.legend(['train', 'test'], loc='upper left')\n",
    "    plt.show()\n",
    "    # summarize history for loss\n",
    "    plt.plot(history.history['loss'])\n",
    "    plt.plot(history.history['val_loss'])\n",
    "    plt.title('model loss')\n",
    "    plt.ylabel('loss')\n",
    "    plt.xlabel('epoch')\n",
    "    plt.legend(['train', 'test'], loc='upper left')\n",
    "    plt.show()"
   ]
  },
  {
   "cell_type": "code",
   "execution_count": 4,
   "metadata": {},
   "outputs": [],
   "source": [
    "def buildNet(num_classes):\n",
    "    \"\"\"\n",
    "    Function to build 4 layer NN with 2 Conv layers, 1 MaxPool layer,\n",
    "    1 GlobalMaxPool layer and 2 Dense layers\n",
    "    \n",
    "    Parameters\n",
    "    ----------\n",
    "    num_classes: int\n",
    "                 Number of classes in training data\n",
    "    Returns\n",
    "    -------\n",
    "    Neural Network created\n",
    "    \"\"\"\n",
    "    model1=Sequential()\n",
    "    model1.add(Convolution2D(32, (3,3),input_shape=(image_size[0], image_size[1], 3),activation='relu'))\n",
    "    model1.add(MaxPooling2D(pool_size=(2,2)))\n",
    "    model1.add(Convolution2D(64,(3,3),activation='relu'))\n",
    "    model1.add(GlobalAveragePooling2D())\n",
    "\n",
    "    model1.add(Dense(128, activation='relu'))\n",
    "    model1.add(Dense(1, activation='sigmoid'))\n",
    "    model1.compile(loss='binary_crossentropy', optimizer='adam', metrics=['accuracy'])\n",
    "    print(model1.summary())\n",
    "    return model1"
   ]
  },
  {
   "cell_type": "code",
   "execution_count": 5,
   "metadata": {},
   "outputs": [],
   "source": [
    "#def trainNet(X_train,y_train,X_val,y_val):\n",
    "def trainNet(training_set, validation_set):\n",
    "    \"\"\"\n",
    "    Function to train NN created\n",
    "    \n",
    "    Arguments\n",
    "    ---------\n",
    "    X_train: numpy array\n",
    "             training samples\n",
    "    y_train: numpy array\n",
    "             labels of training samples\n",
    "    \n",
    "    X_val: numpy array\n",
    "             validation samples\n",
    "    y_val: numpy array\n",
    "             labels of validation samples\n",
    "    \n",
    "    Returns\n",
    "    -------\n",
    "    history: dictionary\n",
    "             history of training and validation of model\n",
    "    \"\"\"\n",
    "    num_classes = 1 #y_train.shape[1]\n",
    "    model = buildNet(num_classes)\n",
    "    history = History()\n",
    "    callbacks = [EarlyStopping(monitor='val_loss', patience=5),\n",
    "             ModelCheckpoint(filepath='best_model.h5', monitor='val_loss', save_best_only=True),history]\n",
    "    \n",
    "    history = model.fit(training_set,\n",
    "                                steps_per_epoch = 8000/32,\n",
    "                                epochs = 15,\n",
    "                                validation_data = validation_set,\n",
    "                                validation_steps = 64,\n",
    "#                                 use_multiprocessing = True,\n",
    "                                workers = 8)\n",
    "    model.save('model.hd5')\n",
    "    plot_model_history(history)\n",
    "\n",
    "    #model.fit(X_train, y_train, validation_data=(X_val, y_val), epochs=30, batch_size=100,callbacks=callbacks,verbose=1)\n",
    "    return history"
   ]
  },
  {
   "cell_type": "code",
   "execution_count": 6,
   "metadata": {},
   "outputs": [],
   "source": [
    "def testNet(validation):\n",
    "    \"\"\"\n",
    "    Function to load and test the model and print confusion matrix\n",
    "    \n",
    "    Parameters\n",
    "    ----------\n",
    "    X_test: numpy array\n",
    "            testing samples\n",
    "    y_test: numpy array\n",
    "            labels of testing samples\n",
    "    Returns\n",
    "    -------\n",
    "    pred: list\n",
    "          prediction made by model\n",
    "    \"\"\"\n",
    "    model = load_model('model.h5')\n",
    "    pred=model.predict_generator(validation)\n",
    "    pred=np.argmax(np.round(pred),axis=1)\n",
    "    actual=np.argmax(np.round(y_test),axis=1)\n",
    "    conf_matrix=confusion_matrix(actual, pred)\n",
    "    print(conf_matrix)"
   ]
  },
  {
   "cell_type": "code",
   "execution_count": 7,
   "metadata": {},
   "outputs": [],
   "source": [
    "if __name__==\"__main__\":\n",
    "    \"\"\"\n",
    "    1.Add code to shuffle data and preprocess image data\n",
    "    2.Split data into train,test sets\n",
    "    3.Uncomment the code below \n",
    "    \"\"\"\n",
    "    #hist=trainNet(X_train,y_train,X_val,y_val)\n",
    "    #plot_model_history(hist)\n",
    "    #testNet(X_val,y_val)\n",
    "    "
   ]
  },
  {
   "cell_type": "code",
   "execution_count": 8,
   "metadata": {},
   "outputs": [],
   "source": [
    "from keras.preprocessing.image import ImageDataGenerator"
   ]
  },
  {
   "cell_type": "code",
   "execution_count": 9,
   "metadata": {},
   "outputs": [
    {
     "name": "stdout",
     "output_type": "stream",
     "text": [
      "Found 1392 images belonging to 2 classes.\n",
      "Found 671 images belonging to 2 classes.\n"
     ]
    }
   ],
   "source": [
    "train_datagen = ImageDataGenerator(rescale = 1./255)\n",
    "\n",
    "test_datagen = ImageDataGenerator(rescale = 1./255)\n",
    "\n",
    "\n",
    "training_set = train_datagen.flow_from_directory('dataset/train/',\n",
    "                                                 target_size = image_size,\n",
    "                                                 batch_size = 32,\n",
    "                                                 class_mode = 'binary')\n",
    "\n",
    "validation_set = test_datagen.flow_from_directory('dataset/test/',\n",
    "                                                  target_size = image_size,\n",
    "                                                  batch_size = 32,\n",
    "                                                  class_mode = 'binary', shuffle=False)\n"
   ]
  },
  {
   "cell_type": "code",
   "execution_count": 18,
   "metadata": {},
   "outputs": [],
   "source": [
    "early_stopping=keras.callbacks.EarlyStopping(\n",
    "    monitor=\"val_loss\",\n",
    "    min_delta=0,\n",
    "    patience=0,\n",
    "    verbose=0,\n",
    "    mode=\"auto\",\n",
    "    baseline=None,\n",
    "    restore_best_weights=False,\n",
    "    start_from_epoch=0,\n",
    ")"
   ]
  },
  {
   "cell_type": "code",
   "execution_count": 19,
   "metadata": {},
   "outputs": [],
   "source": [
    "history = trainNet(training_set=training_set, validation_set=validation_set,callback=early_stopping)"
   ]
  },
  {
   "cell_type": "code",
   "execution_count": 20,
   "metadata": {},
   "outputs": [],
   "source": [
    "mod = buildNet(1)"
   ]
  },
  {
   "cell_type": "markdown",
   "metadata": {},
   "source": []
  },
  {
   "cell_type": "code",
   "execution_count": 21,
   "metadata": {},
   "outputs": [],
   "source": [
    "from keras.models import load_model\n",
    "mod=load_model('model.hd5')"
   ]
  },
  {
   "cell_type": "code",
   "execution_count": 22,
   "metadata": {},
   "outputs": [],
   "source": [
    "test_gen = ImageDataGenerator(rescale = 1./255)\n",
    "\n",
    "test_data = test_datagen.flow_from_directory('final/',\n",
    "                                                  target_size = image_size,\n",
    "                                                  batch_size = 32,\n",
    "                                                  class_mode = 'binary', shuffle=False)"
   ]
  },
  {
   "cell_type": "code",
   "execution_count": 23,
   "metadata": {},
   "outputs": [],
   "source": [
    "mod.predict(test_data)"
   ]
  },
  {
   "cell_type": "code",
   "execution_count": 24,
   "metadata": {},
   "outputs": [],
   "source": [
    "from keras.preprocessing import image\n",
    "import numpy as np\n",
    "\n",
    "def load_and_predict(model, image_path, target_size):\n",
    "    img = image.load_img(image_path, target_size=target_size)\n",
    "    img_array = image.img_to_array(img)\n",
    "    img_array = np.expand_dims(img_array, axis=0)\n",
    "    img_array /= 255.0  # Rescale pixel values to between 0 and 1, similar to training data\n",
    "\n",
    "    result = model.predict(img_array)\n",
    "\n",
    "    # Assuming binary classification (1 class)\n",
    "    class_label = \"Symptoms\" if result[0][0] > 0.5 else \"nonsymptoms\"\n",
    "    \n",
    "    return class_label\n",
    "\n",
    "# Example usage:\n",
    "image_path_to_predict = \"dataset/symptoms/16609_right.jpeg\"  # Change this to the path of the image you want to predict\n",
    "prediction = load_and_predict(mod, image_path_to_predict, image_size)\n",
    "print(f\"The predicted class is: {prediction}\")"
   ]
  },
  {
   "cell_type": "code",
   "execution_count": null,
   "metadata": {},
   "outputs": [],
   "source": []
  }
 ],
 "metadata": {
  "kernelspec": {
   "display_name": "Python 3 (ipykernel)",
   "language": "python",
   "name": "python3"
  },
  "language_info": {
   "codemirror_mode": {
    "name": "ipython",
    "version": 3
   },
   "file_extension": ".py",
   "mimetype": "text/x-python",
   "name": "python",
   "nbconvert_exporter": "python",
   "pygments_lexer": "ipython3",
   "version": "3.11.3"
  }
 },
 "nbformat": 4,
 "nbformat_minor": 2
}
