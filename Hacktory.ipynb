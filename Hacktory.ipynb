{
 "cells": [
  {
   "cell_type": "code",
   "execution_count": 1,
   "metadata": {},
   "outputs": [],
   "source": [
    "import numpy as np\n",
    "from keras.layers import Input\n",
    "from keras.models import Sequential\n",
    "from keras.layers import Convolution2D\n",
    "from keras.models import Model\n",
    "from keras.layers import GlobalAveragePooling2D,MaxPooling2D,concatenate\n",
    "from keras.layers import Dense,Flatten,SpatialDropout2D\n",
    "# from keras.layers.merge import concatenate\n",
    "\n",
    "from keras.callbacks import EarlyStopping, ModelCheckpoint\n",
    "from keras.callbacks import History\n",
    "import matplotlib.pyplot as plt\n",
    "from sklearn.metrics import confusion_matrix\n",
    "import pandas as pd\n",
    "%matplotlib inline"
   ]
  },
  {
   "cell_type": "code",
   "execution_count": 2,
   "metadata": {},
   "outputs": [],
   "source": [
    "image_size = (64, 64)"
   ]
  },
  {
   "cell_type": "code",
   "execution_count": 3,
   "metadata": {},
   "outputs": [],
   "source": [
    "def plot_model_history(history):\n",
    "    \"\"\"\n",
    "    Function to plot training and validation data of model\n",
    "    \n",
    "    Parameters\n",
    "    ----------\n",
    "    history: dictionary\n",
    "             history of training and validation of model\n",
    "    Returns\n",
    "    -------\n",
    "    None\n",
    "    \n",
    "    \"\"\"\n",
    "    print(history.history.keys())\n",
    "    # summarize history for accuracy\n",
    "    plt.plot(history.history['accuracy'])\n",
    "    plt.plot(history.history['val_accuracy'])\n",
    "    plt.title('model accuracy')\n",
    "    plt.ylabel('accuracy')\n",
    "    plt.xlabel('epoch')\n",
    "    plt.legend(['train', 'test'], loc='upper left')\n",
    "    plt.show()\n",
    "    # summarize history for loss\n",
    "    plt.plot(history.history['loss'])\n",
    "    plt.plot(history.history['val_loss'])\n",
    "    plt.title('model loss')\n",
    "    plt.ylabel('loss')\n",
    "    plt.xlabel('epoch')\n",
    "    plt.legend(['train', 'test'], loc='upper left')\n",
    "    plt.show()"
   ]
  },
  {
   "cell_type": "code",
   "execution_count": 4,
   "metadata": {},
   "outputs": [],
   "source": [
    "def buildNet(num_classes):\n",
    "    \"\"\"\n",
    "    Function to build 4 layer NN with 2 Conv layers, 1 MaxPool layer,\n",
    "    1 GlobalMaxPool layer and 2 Dense layers\n",
    "    \n",
    "    Parameters\n",
    "    ----------\n",
    "    num_classes: int\n",
    "                 Number of classes in training data\n",
    "    Returns\n",
    "    -------\n",
    "    Neural Network created\n",
    "    \"\"\"\n",
    "    model1=Sequential()\n",
    "    model1.add(Convolution2D(32, (3,3),input_shape=(image_size[0], image_size[1], 3),activation='relu'))\n",
    "    model1.add(MaxPooling2D(pool_size=(2,2)))\n",
    "    model1.add(Convolution2D(64,(3,3),activation='relu'))\n",
    "    model1.add(GlobalAveragePooling2D())\n",
    "\n",
    "    model1.add(Dense(128, activation='relu'))\n",
    "    model1.add(Dense(1, activation='sigmoid'))\n",
    "    model1.compile(loss='binary_crossentropy', optimizer='adam', metrics=['accuracy'])\n",
    "    print(model1.summary())\n",
    "    return model1"
   ]
  },
  {
   "cell_type": "code",
   "execution_count": 8,
   "metadata": {},
   "outputs": [],
   "source": [
    "import tensorflow as tf\n",
    "from tensorflow.keras.applications import ResNet50"
   ]
  },
  {
   "cell_type": "code",
   "execution_count": 9,
   "metadata": {},
   "outputs": [],
   "source": [
    "# from tensorflow.keras.applications import ResNet50\n",
    "# from tensorflow.keras.layers import Dense, GlobalAveragePooling2D\n",
    "# from tensorflow.keras.models import Model\n",
    "\n",
    "# def buildNet(num_classes):\n",
    "#     # Load pre-trained ResNet50 model with weights trained on ImageNet data\n",
    "#     base_model = ResNet50(weights='imagenet', include_top=False, input_shape=(image_size[0], image_size[1], 3))\n",
    "\n",
    "#     # Freeze the layers of the pre-trained model\n",
    "#     for layer in base_model.layers:\n",
    "#         layer.trainable = False\n",
    "\n",
    "#     # Create a new model on top of the pre-trained ResNet model\n",
    "#     x = base_model.output\n",
    "#     x = GlobalAveragePooling2D()(x)\n",
    "#     x = Dense(128, activation='relu')(x)\n",
    "#     predictions = Dense(num_classes, activation='softmax')(x)\n",
    "\n",
    "#     model_resnet = Model(inputs=base_model.input, outputs=predictions)\n",
    "\n",
    "#     # Compile the model\n",
    "#     model_resnet.compile(optimizer='adam', loss='binary_crossentropy', metrics=['accuracy'])\n",
    "\n",
    "#     print(model_resnet.summary())\n",
    "#     return model_resnet\n",
    "\n",
    "# Replace 'num_classes' with the number of classes in your training data\n",
    "# num_classes = 10  # Replace with the actual number of classes in your dataset\n",
    "# model_resnet = buildResNet(num_classes)"
   ]
  },
  {
   "cell_type": "code",
   "execution_count": 5,
   "metadata": {},
   "outputs": [],
   "source": [
    "#def trainNet(X_train,y_train,X_val,y_val):\n",
    "def trainNet(training_set, validation_set):\n",
    "    \"\"\"\n",
    "    Function to train NN created\n",
    "    \n",
    "    Arguments\n",
    "    ---------\n",
    "    X_train: numpy array\n",
    "             training samples\n",
    "    y_train: numpy array\n",
    "             labels of training samples\n",
    "    \n",
    "    X_val: numpy array\n",
    "             validation samples\n",
    "    y_val: numpy array\n",
    "             labels of validation samples\n",
    "    \n",
    "    Returns\n",
    "    -------\n",
    "    history: dictionary\n",
    "             history of training and validation of model\n",
    "    \"\"\"\n",
    "    num_classes = 1 #y_train.shape[1]\n",
    "    model = buildNet(num_classes)\n",
    "    history = History()\n",
    "    callbacks = [EarlyStopping(monitor='val_loss', patience=5),\n",
    "             ModelCheckpoint(filepath='best_model.h5', monitor='val_loss', save_best_only=True),history]\n",
    "    \n",
    "    history = model.fit(training_set,\n",
    "                                steps_per_epoch = 8000/32,\n",
    "                                epochs = 15,\n",
    "                                validation_data = validation_set,\n",
    "                                validation_steps = 64,\n",
    "#                                 use_multiprocessing = True,\n",
    "                                workers = 8)\n",
    "    model.save('model.hd5')\n",
    "    plot_model_history(history)\n",
    "\n",
    "    #model.fit(X_train, y_train, validation_data=(X_val, y_val), epochs=30, batch_size=100,callbacks=callbacks,verbose=1)\n",
    "    return history"
   ]
  },
  {
   "cell_type": "code",
   "execution_count": 6,
   "metadata": {},
   "outputs": [],
   "source": [
    "def testNet(validation):\n",
    "    \"\"\"\n",
    "    Function to load and test the model and print confusion matrix\n",
    "    \n",
    "    Parameters\n",
    "    ----------\n",
    "    X_test: numpy array\n",
    "            testing samples\n",
    "    y_test: numpy array\n",
    "            labels of testing samples\n",
    "    Returns\n",
    "    -------\n",
    "    pred: list\n",
    "          prediction made by model\n",
    "    \"\"\"\n",
    "    model = load_model('model.h5')\n",
    "    pred=model.predict_generator(validation)\n",
    "    pred=np.argmax(np.round(pred),axis=1)\n",
    "    actual=np.argmax(np.round(y_test),axis=1)\n",
    "    conf_matrix=confusion_matrix(actual, pred)\n",
    "    print(conf_matrix)"
   ]
  },
  {
   "cell_type": "code",
   "execution_count": 12,
   "metadata": {},
   "outputs": [],
   "source": [
    "if __name__==\"__main__\":\n",
    "    \"\"\"\n",
    "    1.Add code to shuffle data and preprocess image data\n",
    "    2.Split data into train,test sets\n",
    "    3.Uncomment the code below \n",
    "    \"\"\"\n",
    "    #hist=trainNet(X_train,y_train,X_val,y_val)\n",
    "    #plot_model_history(hist)\n",
    "    #testNet(X_val,y_val)\n",
    "    "
   ]
  },
  {
   "cell_type": "code",
   "execution_count": 7,
   "metadata": {},
   "outputs": [],
   "source": [
    "from keras.preprocessing.image import ImageDataGenerator"
   ]
  },
  {
   "cell_type": "code",
   "execution_count": 8,
   "metadata": {},
   "outputs": [
    {
     "name": "stdout",
     "output_type": "stream",
     "text": [
      "Found 1392 images belonging to 2 classes.\n",
      "Found 671 images belonging to 2 classes.\n"
     ]
    }
   ],
   "source": [
    "train_datagen = ImageDataGenerator(rescale = 1./255)\n",
    "\n",
    "test_datagen = ImageDataGenerator(rescale = 1./255)\n",
    "\n",
    "\n",
    "training_set = train_datagen.flow_from_directory('dataset/train/',\n",
    "                                                 target_size = image_size,\n",
    "                                                 batch_size = 16,\n",
    "                                                 class_mode = 'binary')\n",
    "\n",
    "validation_set = test_datagen.flow_from_directory('dataset/test/',\n",
    "                                                  target_size = image_size,\n",
    "                                                  batch_size = 16,\n",
    "                                                  class_mode = 'binary', shuffle=False)\n"
   ]
  },
  {
   "cell_type": "code",
   "execution_count": 9,
   "metadata": {},
   "outputs": [],
   "source": [
    "import tensorflow as tf"
   ]
  },
  {
   "cell_type": "code",
   "execution_count": 11,
   "metadata": {},
   "outputs": [],
   "source": [
    "gpus = tf.config.experimental.list_physical_devices('GPU')\n",
    "if gpus:\n",
    "    try:\n",
    "        for gpu in gpus:\n",
    "            tf.config.experimental.set_memory_growth(gpu, True)\n",
    "    except RuntimeError as e:\n",
    "        print(e)"
   ]
  },
  {
   "cell_type": "code",
   "execution_count": 12,
   "metadata": {},
   "outputs": [
    {
     "name": "stdout",
     "output_type": "stream",
     "text": [
      "Model: \"sequential_1\"\n",
      "_________________________________________________________________\n",
      " Layer (type)                Output Shape              Param #   \n",
      "=================================================================\n",
      " conv2d_2 (Conv2D)           (None, 62, 62, 32)        896       \n",
      "                                                                 \n",
      " max_pooling2d_1 (MaxPoolin  (None, 31, 31, 32)        0         \n",
      " g2D)                                                            \n",
      "                                                                 \n",
      " conv2d_3 (Conv2D)           (None, 29, 29, 64)        18496     \n",
      "                                                                 \n",
      " global_average_pooling2d_1  (None, 64)                0         \n",
      "  (GlobalAveragePooling2D)                                       \n",
      "                                                                 \n",
      " dense_2 (Dense)             (None, 128)               8320      \n",
      "                                                                 \n",
      " dense_3 (Dense)             (None, 1)                 129       \n",
      "                                                                 \n",
      "=================================================================\n",
      "Total params: 27841 (108.75 KB)\n",
      "Trainable params: 27841 (108.75 KB)\n",
      "Non-trainable params: 0 (0.00 Byte)\n",
      "_________________________________________________________________\n",
      "None\n",
      "Epoch 1/15\n",
      "250/250 [==============================] - 116s 449ms/step - loss: 0.5198 - accuracy: 0.7412 - val_loss: 0.5197 - val_accuracy: 0.7370\n",
      "Epoch 2/15\n",
      "250/250 [==============================] - 115s 446ms/step - loss: 0.4900 - accuracy: 0.7747 - val_loss: 0.5375 - val_accuracy: 0.7146\n",
      "Epoch 3/15\n",
      "250/250 [==============================] - 116s 453ms/step - loss: 0.4776 - accuracy: 0.7807 - val_loss: 0.5350 - val_accuracy: 0.7185\n",
      "Epoch 4/15\n",
      "250/250 [==============================] - 117s 460ms/step - loss: 0.4659 - accuracy: 0.7937 - val_loss: 0.6140 - val_accuracy: 0.6745\n",
      "Epoch 5/15\n",
      "250/250 [==============================] - 112s 436ms/step - loss: 0.4591 - accuracy: 0.7895 - val_loss: 0.5040 - val_accuracy: 0.7664\n",
      "Epoch 6/15\n",
      "250/250 [==============================] - 119s 465ms/step - loss: 0.4510 - accuracy: 0.7995 - val_loss: 0.6213 - val_accuracy: 0.6588\n",
      "Epoch 7/15\n",
      "250/250 [==============================] - 124s 484ms/step - loss: 0.4402 - accuracy: 0.8027 - val_loss: 0.5492 - val_accuracy: 0.7126\n",
      "Epoch 8/15\n",
      "250/250 [==============================] - 117s 456ms/step - loss: 0.4296 - accuracy: 0.8062 - val_loss: 0.5705 - val_accuracy: 0.7126\n",
      "Epoch 9/15\n",
      "250/250 [==============================] - 115s 449ms/step - loss: 0.4194 - accuracy: 0.8110 - val_loss: 0.5716 - val_accuracy: 0.7028\n",
      "Epoch 10/15\n",
      "250/250 [==============================] - 120s 469ms/step - loss: 0.4135 - accuracy: 0.8145 - val_loss: 0.5849 - val_accuracy: 0.6843\n",
      "Epoch 11/15\n",
      "250/250 [==============================] - 118s 461ms/step - loss: 0.4160 - accuracy: 0.8108 - val_loss: 0.5409 - val_accuracy: 0.7107\n",
      "Epoch 12/15\n",
      "250/250 [==============================] - 118s 464ms/step - loss: 0.4089 - accuracy: 0.8192 - val_loss: 0.5753 - val_accuracy: 0.6960\n",
      "Epoch 13/15\n",
      "250/250 [==============================] - 116s 453ms/step - loss: 0.3978 - accuracy: 0.8205 - val_loss: 0.6133 - val_accuracy: 0.6588\n",
      "Epoch 14/15\n",
      "250/250 [==============================] - 116s 455ms/step - loss: 0.3955 - accuracy: 0.8192 - val_loss: 0.5689 - val_accuracy: 0.7048\n",
      "Epoch 15/15\n",
      "250/250 [==============================] - 118s 462ms/step - loss: 0.3937 - accuracy: 0.8215 - val_loss: 0.6017 - val_accuracy: 0.6823\n",
      "INFO:tensorflow:Assets written to: model.hd5\\assets\n"
     ]
    },
    {
     "name": "stderr",
     "output_type": "stream",
     "text": [
      "INFO:tensorflow:Assets written to: model.hd5\\assets\n"
     ]
    },
    {
     "name": "stdout",
     "output_type": "stream",
     "text": [
      "dict_keys(['loss', 'accuracy', 'val_loss', 'val_accuracy'])\n"
     ]
    },
    {
     "data": {
      "image/png": "[encoded data removed]",
      "text/plain": [
       "<Figure size 640x480 with 1 Axes>"
      ]
     },
     "metadata": {},
     "output_type": "display_data"
    },
    {
     "data": {
      "image/png": "[encoded data removed]",
      "text/plain": [
       "<Figure size 640x480 with 1 Axes>"
      ]
     },
     "metadata": {},
     "output_type": "display_data"
    }
   ],
   "source": [
    "history = trainNet(training_set=training_set, validation_set=validation_set)"
   ]
  },
  {
   "cell_type": "code",
   "execution_count": null,
   "metadata": {},
   "outputs": [],
   "source": [
    "# mod = buildNet(1)"
   ]
  },
  {
   "cell_type": "markdown",
   "metadata": {},
   "source": []
  },
  {
   "cell_type": "code",
   "execution_count": 63,
   "metadata": {},
   "outputs": [],
   "source": [
    "from keras.models import load_model\n",
    "mod=load_model('new_model.hd5')"
   ]
  },
  {
   "cell_type": "code",
   "execution_count": 64,
   "metadata": {},
   "outputs": [
    {
     "name": "stdout",
     "output_type": "stream",
     "text": [
      "Found 2 images belonging to 3 classes.\n"
     ]
    }
   ],
   "source": [
    "# test_gen = ImageDataGenerator(rescale = 1./255)\n",
    "\n",
    "# test_data = test_datagen.flow_from_directory('final/',\n",
    "#                                                   target_size = image_size,\n",
    "#                                                   batch_size = 32,\n",
    "#                                                   class_mode = 'binary', shuffle=False)"
   ]
  },
  {
   "cell_type": "code",
   "execution_count": 65,
   "metadata": {},
   "outputs": [
    {
     "name": "stdout",
     "output_type": "stream",
     "text": [
      "1/1 [==============================] - 0s 263ms/step\n"
     ]
    },
    {
     "data": {
      "text/plain": [
       "array([[0.31970254],\n",
       "       [0.3711249 ]], dtype=float32)"
      ]
     },
     "execution_count": 65,
     "metadata": {},
     "output_type": "execute_result"
    }
   ],
   "source": [
    "mod.predict(test_data)"
   ]
  },
  {
   "cell_type": "code",
   "execution_count": 79,
   "metadata": {},
   "outputs": [
    {
     "name": "stdout",
     "output_type": "stream",
     "text": [
      "1/1 [==============================] - 0s 94ms/step\n",
      "[[0.15581325]]\n",
      "The predicted class is: nonsymptoms\n"
     ]
    }
   ],
   "source": [
    "from keras.preprocessing import image\n",
    "import numpy as np\n",
    "\n",
    "def load_and_predict(model, image_path, target_size):\n",
    "    img = image.load_img(image_path, target_size=target_size)\n",
    "    img_array = image.img_to_array(img)\n",
    "    img_array = np.expand_dims(img_array, axis=0)\n",
    "    img_array /= 255.0  # Rescale pixel values to between 0 and 1, similar to training data\n",
    "\n",
    "    result = model.predict(img_array)\n",
    "\n",
    "    # Assuming binary classification (1 class)\n",
    "    class_label = \"Symptoms\" if result[0][0] > 0.5 else \"nonsymptoms\"\n",
    "    print(result)\n",
    "    return class_label\n",
    "\n",
    "# Example usage:\n",
    "image_path_to_predict = \"dataset/nosymptoms/14767_left.jpeg\"  # Change this to the path of the image you want to predict\n",
    "prediction = load_and_predict(mod, image_path_to_predict, image_size)\n",
    "print(f\"The predicted class is: {prediction}\")"
   ]
  },
  {
   "cell_type": "code",
   "execution_count": null,
   "metadata": {},
   "outputs": [],
   "source": []
  }
 ],
 "metadata": {
  "kernelspec": {
   "display_name": "Python 3 (ipykernel)",
   "language": "python",
   "name": "python3"
  },
  "language_info": {
   "codemirror_mode": {
    "name": "ipython",
    "version": 3
   },
   "file_extension": ".py",
   "mimetype": "text/x-python",
   "name": "python",
   "nbconvert_exporter": "python",
   "pygments_lexer": "ipython3",
   "version": "3.11.3"
  }
 },
 "nbformat": 4,
 "nbformat_minor": 2
}
